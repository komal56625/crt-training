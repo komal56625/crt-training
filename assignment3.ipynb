{
 "cells": [
  {
   "cell_type": "code",
   "execution_count": 1,
   "metadata": {},
   "outputs": [
    {
     "name": "stdout",
     "output_type": "stream",
     "text": [
      "{'a': 1, 'b': 2, 'c': 3}\n"
     ]
    }
   ],
   "source": [
    "merge_lists = lambda keys, values: dict(zip(keys, values))\n",
    "\n",
    "# Example usage\n",
    "keys = [\"a\", \"b\", \"c\"]\n",
    "values = [1, 2, 3]\n",
    "result = merge_lists(keys, values)\n",
    "print(result)  "
   ]
  },
  {
   "cell_type": "code",
   "execution_count": 2,
   "metadata": {},
   "outputs": [
    {
     "name": "stdout",
     "output_type": "stream",
     "text": [
      "Original Price of Laptop: 50000\n",
      "Discounted Price: 45000.0\n",
      "Original Price of Smartphone: 30000\n",
      "Discounted Price: 27000.0\n"
     ]
    }
   ],
   "source": [
    "class Product:\n",
    "    discount_rate = 0.10  # Class variable for discount rate (10%)\n",
    "\n",
    "    def __init__(self, name, price):\n",
    "        self.name = name\n",
    "        self.price = price\n",
    "\n",
    "    def discounted_price(self):\n",
    "        return self.price * (1 - Product.discount_rate)\n",
    "\n",
    "# Example usage\n",
    "p1 = Product(\"Laptop\", 50000)\n",
    "p2 = Product(\"Smartphone\", 30000)\n",
    "\n",
    "print(f\"Original Price of {p1.name}: {p1.price}\")\n",
    "print(f\"Discounted Price: {p1.discounted_price()}\")\n",
    "\n",
    "print(f\"Original Price of {p2.name}: {p2.price}\")\n",
    "print(f\"Discounted Price: {p2.discounted_price()}\")"
   ]
  },
  {
   "cell_type": "code",
   "execution_count": 4,
   "metadata": {},
   "outputs": [
    {
     "name": "stdout",
     "output_type": "stream",
     "text": [
      "Area of Circle: 78.54\n",
      "Area of Rectangle: 24\n"
     ]
    }
   ],
   "source": [
    "import math\n",
    "\n",
    "# Base class\n",
    "class Shape:\n",
    "    def area(self):\n",
    "        raise NotImplementedError(\"Subclass must implement area method\")\n",
    "\n",
    "# Derived class for Circle\n",
    "class Circle(Shape):\n",
    "    def __init__(self, radius):\n",
    "        self.radius = radius\n",
    "\n",
    "    def area(self):\n",
    "        return math.pi * self.radius ** 2\n",
    "\n",
    "# Derived class for Rectangle\n",
    "class Rectangle(Shape):\n",
    "    def __init__(self, length, width):\n",
    "        self.length = length\n",
    "        self.width = width\n",
    "\n",
    "    def area(self):\n",
    "        return self.length * self.width\n",
    "\n",
    "# Example usage\n",
    "c = Circle(5)\n",
    "r = Rectangle(4, 6)\n",
    "\n",
    "print(f\"Area of Circle: {c.area():.2f}\")  \n",
    "print(f\"Area of Rectangle: {r.area()}\") "
   ]
  },
  {
   "cell_type": "code",
   "execution_count": 5,
   "metadata": {},
   "outputs": [
    {
     "name": "stdout",
     "output_type": "stream",
     "text": [
      "Name: Alice, Age: 35, ID: M123, Salary: 75000, Dept: IT\n"
     ]
    }
   ],
   "source": [
    "class Person:\n",
    "    def __init__(self, name, age):\n",
    "        self.name, self.age = name, age\n",
    "\n",
    "class Employee:\n",
    "    def __init__(self, emp_id, salary):\n",
    "        self.emp_id, self.salary = emp_id, salary\n",
    "\n",
    "class Manager(Person, Employee):\n",
    "    def __init__(self, name, age, emp_id, salary, dept):\n",
    "        Person.__init__(self, name, age)\n",
    "        Employee.__init__(self, emp_id, salary)\n",
    "        self.dept = dept\n",
    "\n",
    "    def show_details(self):\n",
    "        print(f\"Name: {self.name}, Age: {self.age}, ID: {self.emp_id}, Salary: {self.salary}, Dept: {self.dept}\")\n",
    "\n",
    "# Example usage\n",
    "m = Manager(\"Alice\", 35, \"M123\", 75000, \"IT\")\n",
    "m.show_details()"
   ]
  },
  {
   "cell_type": "code",
   "execution_count": 6,
   "metadata": {},
   "outputs": [
    {
     "name": "stdout",
     "output_type": "stream",
     "text": [
      "Woof!\n",
      "Meow!\n",
      "Moo!\n"
     ]
    }
   ],
   "source": [
    "class Dog:\n",
    "    def make_sound(self):\n",
    "        return \"Woof!\"\n",
    "\n",
    "class Cat:\n",
    "    def make_sound(self):\n",
    "        return \"Meow!\"\n",
    "\n",
    "class Cow:\n",
    "    def make_sound(self):\n",
    "        return \"Moo!\"\n",
    "\n",
    "def play_sound(animal):\n",
    "    print(animal.make_sound())\n",
    "\n",
    "# Example usage\n",
    "for animal in [Dog(), Cat(), Cow()]:\n",
    "    play_sound(animal)"
   ]
  },
  {
   "cell_type": "code",
   "execution_count": 7,
   "metadata": {},
   "outputs": [
    {
     "name": "stdout",
     "output_type": "stream",
     "text": [
      "Toyota Innova - ₹3000/day, Seats: 7\n",
      "Honda CBR - ₹1000/day, Type: Sports\n"
     ]
    }
   ],
   "source": [
    "class Vehicle:\n",
    "    def __init__(self, brand, model, price_per_day):\n",
    "        self.brand, self.model, self.price_per_day = brand, model, price_per_day\n",
    "\n",
    "    def show_details(self):\n",
    "        return f\"{self.brand} {self.model} - ₹{self.price_per_day}/day\"\n",
    "\n",
    "class Car(Vehicle):\n",
    "    def __init__(self, brand, model, price_per_day, seats):\n",
    "        super().__init__(brand, model, price_per_day)\n",
    "        self.seats = seats\n",
    "\n",
    "    def show_details(self):\n",
    "        return super().show_details() + f\", Seats: {self.seats}\"\n",
    "\n",
    "class Bike(Vehicle):\n",
    "    def __init__(self, brand, model, price_per_day, type_bike):\n",
    "        super().__init__(brand, model, price_per_day)\n",
    "        self.type_bike = type_bike\n",
    "\n",
    "    def show_details(self):\n",
    "        return super().show_details() + f\", Type: {self.type_bike}\"\n",
    "\n",
    "# Example usage\n",
    "vehicles = [\n",
    "    Car(\"Toyota\", \"Innova\", 3000, 7),\n",
    "    Bike(\"Honda\", \"CBR\", 1000, \"Sports\"),\n",
    "]\n",
    "\n",
    "for v in vehicles:\n",
    "    print(v.show_details())"
   ]
  }
 ],
 "metadata": {
  "kernelspec": {
   "display_name": "base",
   "language": "python",
   "name": "python3"
  },
  "language_info": {
   "codemirror_mode": {
    "name": "ipython",
    "version": 3
   },
   "file_extension": ".py",
   "mimetype": "text/x-python",
   "name": "python",
   "nbconvert_exporter": "python",
   "pygments_lexer": "ipython3",
   "version": "3.12.7"
  }
 },
 "nbformat": 4,
 "nbformat_minor": 2
}
