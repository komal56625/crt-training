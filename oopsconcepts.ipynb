{
 "cells": [
  {
   "cell_type": "code",
   "execution_count": 8,
   "metadata": {},
   "outputs": [
    {
     "name": "stdout",
     "output_type": "stream",
     "text": [
      "<function <lambda> at 0x000002DB9CA60220> 3 3\n"
     ]
    }
   ],
   "source": [
    "#lemdafunctions= use for one line code\n",
    "add=lambda x,y:x+y\n",
    "print(add,3,3)\n"
   ]
  },
  {
   "cell_type": "code",
   "execution_count": null,
   "metadata": {},
   "outputs": [
    {
     "ename": "SyntaxError",
     "evalue": "invalid syntax (3796217906.py, line 3)",
     "output_type": "error",
     "traceback": [
      "\u001b[1;36m  Cell \u001b[1;32mIn[9], line 3\u001b[1;36m\u001b[0m\n\u001b[1;33m    a1arya():\u001b[0m\n\u001b[1;37m            ^\u001b[0m\n\u001b[1;31mSyntaxError\u001b[0m\u001b[1;31m:\u001b[0m invalid syntax\n"
     ]
    }
   ],
   "source": [
    "class arya:\n",
    "    a=10\n",
    "  arya()\n",
    "print(a1.a)\n",
    "\n"
   ]
  },
  {
   "cell_type": "code",
   "execution_count": 10,
   "metadata": {},
   "outputs": [
    {
     "name": "stdout",
     "output_type": "stream",
     "text": [
      "hod \n",
      "None\n"
     ]
    }
   ],
   "source": [
    "class Arya:\n",
    "    def hod():\n",
    "        print(\"hod \")\n",
    "a2= Arya.hod() \n",
    "print(a2)      \n"
   ]
  },
  {
   "cell_type": "code",
   "execution_count": 11,
   "metadata": {},
   "outputs": [
    {
     "name": "stdout",
     "output_type": "stream",
     "text": [
      "<class 'int'>\n"
     ]
    }
   ],
   "source": [
    "a=30\n",
    "print(type(a))"
   ]
  },
  {
   "cell_type": "code",
   "execution_count": 12,
   "metadata": {},
   "outputs": [],
   "source": [
    "class arya:\n",
    "    def __init__(se):\n",
    "        se.a=10 #instance variable\n",
    "        a1=arya()\n",
    "        print(a1.a)"
   ]
  },
  {
   "cell_type": "code",
   "execution_count": null,
   "metadata": {},
   "outputs": [
    {
     "name": "stdout",
     "output_type": "stream",
     "text": [
      "agrwal\n",
      "xyz\n"
     ]
    }
   ],
   "source": [
    "class arya_old:\n",
    "    def __init__(self,founder,dir):\n",
    "        self.founder= founder\n",
    "        self.dir=dir\n",
    "s1=arya_old(\"agrwal\",\"xyz\")\n",
    "print(s1.founder)\n",
    "print(s1.dir)\n"
   ]
  },
  {
   "cell_type": "code",
   "execution_count": 21,
   "metadata": {},
   "outputs": [
    {
     "name": "stdout",
     "output_type": "stream",
     "text": [
      "hi\n",
      "ji\n",
      "hello\n"
     ]
    }
   ],
   "source": [
    "class arya:\n",
    "      def __init__(self,k,pp,n):\n",
    "            self.k=k\n",
    "            self.pp=pp\n",
    "            self.n=n  \n",
    "      def func(self):\n",
    "       print(self.k)            \n",
    "       print(self.pp)\n",
    "       print(self.n)    \n",
    "obj=arya(\"hi\",\"ji\",\"hello\")\n",
    "obj.func()      "
   ]
  },
  {
   "cell_type": "code",
   "execution_count": 2,
   "metadata": {},
   "outputs": [
    {
     "name": "stdout",
     "output_type": "stream",
     "text": [
      "hello\n",
      "arya main\n"
     ]
    }
   ],
   "source": [
    "class a:\n",
    "    name=\"arya main\"\n",
    "class arya_old(a):  \n",
    "    print(\"hello\")\n",
    "\n",
    "obj=arya_old()\n",
    "print(obj.name)\n"
   ]
  },
  {
   "cell_type": "code",
   "execution_count": null,
   "metadata": {},
   "outputs": [],
   "source": [
    "class arya:\n",
    "    def _init_(self,account_no):\n",
    "        self.account_no=account_no\n",
    "class        \n",
    "        pass"
   ]
  },
  {
   "cell_type": "code",
   "execution_count": null,
   "metadata": {},
   "outputs": [
    {
     "name": "stdout",
     "output_type": "stream",
     "text": [
      "son\n"
     ]
    },
    {
     "data": {
      "text/plain": [
       "'agrwals'"
      ]
     },
     "execution_count": 3,
     "metadata": {},
     "output_type": "execute_result"
    }
   ],
   "source": [
    "class grandfather:\n",
    "        grandfathername=\"agrwals\"\n",
    "class father:\n",
    "       fathername=\"aryas\"\n",
    "class son(grandfather,father):\n",
    "        print(\"son\")\n",
    "obj=son()\n",
    "obj.grandfathername        "
   ]
  },
  {
   "cell_type": "code",
   "execution_count": 5,
   "metadata": {},
   "outputs": [
    {
     "name": "stdout",
     "output_type": "stream",
     "text": [
      "this is gfather clss\n",
      "this is father clas\n",
      "son\n"
     ]
    },
    {
     "data": {
      "text/plain": [
       "'agrwals'"
      ]
     },
     "execution_count": 5,
     "metadata": {},
     "output_type": "execute_result"
    }
   ],
   "source": [
    "class grandfather:\n",
    "        grandfathername=\"agrwals\"\n",
    "        print(\"this is gfather clss\")\n",
    "class father(grandfather):\n",
    "       fathername=\"aryas\"\n",
    "       print(\"this is father clas\")\n",
    "class son(father):\n",
    "        print(\"son\")\n",
    "obj=son()\n",
    "obj.grandfathername       "
   ]
  },
  {
   "cell_type": "code",
   "execution_count": 10,
   "metadata": {},
   "outputs": [
    {
     "name": "stdout",
     "output_type": "stream",
     "text": [
      "this is gfather class\n",
      "this is father class\n",
      "this is grandson class\n",
      "son\n"
     ]
    },
    {
     "data": {
      "text/plain": [
       "'agrwals'"
      ]
     },
     "execution_count": 10,
     "metadata": {},
     "output_type": "execute_result"
    }
   ],
   "source": [
    "class grandfather:\n",
    "        grandfathername=\"agrwals\"\n",
    "        print(\"this is gfather class\")\n",
    "class father(grandfather):\n",
    "       fathername=\"aryas\"\n",
    "       print(\"this is father class\")\n",
    "class grandson(father,grandfather):\n",
    "        grandsonname=\"aryamain\"\n",
    "        print(\"this is grandson class\")\n",
    "class son(grandfather):\n",
    "        print(\"son\")\n",
    "obj=son()\n",
    "obj.grandfathername  "
   ]
  },
  {
   "cell_type": "code",
   "execution_count": null,
   "metadata": {},
   "outputs": [
    {
     "name": "stdout",
     "output_type": "stream",
     "text": [
      "12\n",
      "2\n"
     ]
    }
   ],
   "source": [
    "#polymorphism=use for multi\n",
    "name=\"arya college\"\n",
    "print(len(name))\n",
    "list=[887,687]\n",
    "print(len(list))"
   ]
  },
  {
   "cell_type": "code",
   "execution_count": null,
   "metadata": {},
   "outputs": [],
   "source": []
  }
 ],
 "metadata": {
  "kernelspec": {
   "display_name": "base",
   "language": "python",
   "name": "python3"
  },
  "language_info": {
   "codemirror_mode": {
    "name": "ipython",
    "version": 3
   },
   "file_extension": ".py",
   "mimetype": "text/x-python",
   "name": "python",
   "nbconvert_exporter": "python",
   "pygments_lexer": "ipython3",
   "version": "3.12.7"
  }
 },
 "nbformat": 4,
 "nbformat_minor": 2
}
