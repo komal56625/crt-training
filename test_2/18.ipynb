{
 "cells": [
  {
   "cell_type": "code",
   "execution_count": 1,
   "id": "4261da45",
   "metadata": {},
   "outputs": [],
   "source": [
    "\n",
    "class Vehicle:\n",
    "    def __init__(self, brand, color):\n",
    "        self.brand = brand\n",
    "        self.color = color\n",
    "\n",
    "    def display_info(self):\n",
    "        print(f\"Brand: {self.brand}\")\n",
    "        print(f\"Color: {self.color}\")\n"
   ]
  },
  {
   "cell_type": "code",
   "execution_count": 2,
   "id": "c555189f",
   "metadata": {},
   "outputs": [],
   "source": [
    "class Car(Vehicle):\n",
    "    def __init__(self, brand, color, model):\n",
    "        super().__init__(brand, color)  # Call the parent class constructor\n",
    "        self.model = model\n",
    "\n",
    "    def display_car_info(self):\n",
    "        self.display_info()\n",
    "        print(f\"Model: {self.model}\")"
   ]
  },
  {
   "cell_type": "code",
   "execution_count": 4,
   "id": "bbbd3eb5",
   "metadata": {},
   "outputs": [
    {
     "name": "stdout",
     "output_type": "stream",
     "text": [
      "Brand: Toyota\n",
      "Color: xyz\n",
      "Model: Yellow\n"
     ]
    }
   ],
   "source": [
    "\n",
    "my_car = Car(\"Toyota\", \"xyz\", \"Yellow\")\n",
    "my_car.display_car_info()\n"
   ]
  },
  {
   "cell_type": "code",
   "execution_count": null,
   "id": "1a3816e9",
   "metadata": {},
   "outputs": [],
   "source": []
  }
 ],
 "metadata": {
  "kernelspec": {
   "display_name": "Python 3",
   "language": "python",
   "name": "python3"
  },
  "language_info": {
   "codemirror_mode": {
    "name": "ipython",
    "version": 3
   },
   "file_extension": ".py",
   "mimetype": "text/x-python",
   "name": "python",
   "nbconvert_exporter": "python",
   "pygments_lexer": "ipython3",
   "version": "3.12.2"
  }
 },
 "nbformat": 4,
 "nbformat_minor": 5
}
