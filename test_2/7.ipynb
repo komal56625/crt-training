{
 "cells": [
  {
   "cell_type": "code",
   "execution_count": 1,
   "id": "b7c49b0a",
   "metadata": {},
   "outputs": [],
   "source": [
    "from sklearn.datasets import load_breast_cancer\n",
    "from sklearn.model_selection import train_test_split\n",
    "from sklearn.ensemble import BaggingClassifier, AdaBoostClassifier\n",
    "from sklearn.metrics import accuracy_score, precision_score, recall_score, classification_report"
   ]
  },
  {
   "cell_type": "code",
   "execution_count": 2,
   "id": "13ab578d",
   "metadata": {},
   "outputs": [],
   "source": [
    "\n",
    "# 1. Load Breast Cancer Dataset\n",
    "data = load_breast_cancer()\n",
    "X = data.data\n",
    "y = data.target"
   ]
  },
  {
   "cell_type": "code",
   "execution_count": 3,
   "id": "5200d91b",
   "metadata": {},
   "outputs": [],
   "source": [
    "\n",
    "# 2. Train-Test Split\n",
    "X_train, X_test, y_train, y_test = train_test_split(X, y, test_size=0.2, random_state=42)"
   ]
  },
  {
   "cell_type": "code",
   "execution_count": 4,
   "id": "2bf77b32",
   "metadata": {},
   "outputs": [],
   "source": [
    "\n",
    "# 3. Bagging Classifier\n",
    "bagging = BaggingClassifier(random_state=42)\n",
    "bagging.fit(X_train, y_train)\n",
    "bagging_pred = bagging.predict(X_test)"
   ]
  },
  {
   "cell_type": "code",
   "execution_count": 5,
   "id": "8d37f683",
   "metadata": {},
   "outputs": [],
   "source": [
    "\n",
    "# 4. AdaBoost Classifier\n",
    "adaboost = AdaBoostClassifier(random_state=42)\n",
    "adaboost.fit(X_train, y_train)\n",
    "adaboost_pred = adaboost.predict(X_test)"
   ]
  },
  {
   "cell_type": "code",
   "execution_count": 6,
   "id": "30b07319",
   "metadata": {},
   "outputs": [
    {
     "name": "stdout",
     "output_type": "stream",
     "text": [
      "💡 Bagging Classifier Report:\n",
      "Accuracy : 0.956140350877193\n",
      "Precision: 0.9583333333333334\n",
      "Recall   : 0.971830985915493\n",
      "\n",
      "               precision    recall  f1-score   support\n",
      "\n",
      "   malignant       0.95      0.93      0.94        43\n",
      "      benign       0.96      0.97      0.97        71\n",
      "\n",
      "    accuracy                           0.96       114\n",
      "   macro avg       0.96      0.95      0.95       114\n",
      "weighted avg       0.96      0.96      0.96       114\n",
      "\n"
     ]
    }
   ],
   "source": [
    "# 5. Compare Performance\n",
    "print(\"💡 Bagging Classifier Report:\")\n",
    "print(\"Accuracy :\", accuracy_score(y_test, bagging_pred))\n",
    "print(\"Precision:\", precision_score(y_test, bagging_pred))\n",
    "print(\"Recall   :\", recall_score(y_test, bagging_pred))\n",
    "print(\"\\n\", classification_report(y_test, bagging_pred, target_names=data.target_names))"
   ]
  },
  {
   "cell_type": "code",
   "execution_count": 7,
   "id": "c261c876",
   "metadata": {},
   "outputs": [
    {
     "name": "stdout",
     "output_type": "stream",
     "text": [
      "\n",
      "💡 AdaBoost Classifier Report:\n",
      "Accuracy : 0.9649122807017544\n",
      "Precision: 0.958904109589041\n",
      "Recall   : 0.9859154929577465\n",
      "\n",
      "               precision    recall  f1-score   support\n",
      "\n",
      "   malignant       0.98      0.93      0.95        43\n",
      "      benign       0.96      0.99      0.97        71\n",
      "\n",
      "    accuracy                           0.96       114\n",
      "   macro avg       0.97      0.96      0.96       114\n",
      "weighted avg       0.97      0.96      0.96       114\n",
      "\n"
     ]
    }
   ],
   "source": [
    "\n",
    "\n",
    "print(\"\\n💡 AdaBoost Classifier Report:\")\n",
    "print(\"Accuracy :\", accuracy_score(y_test, adaboost_pred))\n",
    "print(\"Precision:\", precision_score(y_test, adaboost_pred))\n",
    "print(\"Recall   :\", recall_score(y_test, adaboost_pred))\n",
    "print(\"\\n\", classification_report(y_test, adaboost_pred, target_names=data.target_names))\n"
   ]
  },
  {
   "cell_type": "code",
   "execution_count": null,
   "id": "4456d33c",
   "metadata": {},
   "outputs": [],
   "source": []
  },
  {
   "cell_type": "code",
   "execution_count": null,
   "id": "a0f0b069",
   "metadata": {},
   "outputs": [],
   "source": []
  },
  {
   "cell_type": "code",
   "execution_count": null,
   "id": "0076cd01",
   "metadata": {},
   "outputs": [],
   "source": []
  }
 ],
 "metadata": {
  "kernelspec": {
   "display_name": "Python 3",
   "language": "python",
   "name": "python3"
  },
  "language_info": {
   "codemirror_mode": {
    "name": "ipython",
    "version": 3
   },
   "file_extension": ".py",
   "mimetype": "text/x-python",
   "name": "python",
   "nbconvert_exporter": "python",
   "pygments_lexer": "ipython3",
   "version": "3.12.2"
  }
 },
 "nbformat": 4,
 "nbformat_minor": 5
}
