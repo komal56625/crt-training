{
 "cells": [
  {
   "cell_type": "code",
   "execution_count": 3,
   "id": "f98b9a7a",
   "metadata": {},
   "outputs": [
    {
     "name": "stdout",
     "output_type": "stream",
     "text": [
      "Child's Name: sita\n",
      "Father's Name: Pawan sen\n",
      "Father's Hobby: Teaching\n",
      "Mother's Name: Radha\n",
      "Mother's Hobby: Doing Puja\n"
     ]
    }
   ],
   "source": [
    "class Father:\n",
    "    def __init__(self):\n",
    "        self.father_name = \"Pawan sen\"\n",
    "        self.father_hobby = \"Teaching\"\n",
    "\n",
    "    def father_info(self):\n",
    "        print(f\"Father's Name: {self.father_name}\")\n",
    "        print(f\"Father's Hobby: {self.father_hobby}\")\n",
    "\n",
    "\n",
    "class Mother:\n",
    "    def __init__(self):\n",
    "        self.mother_name = \"Radha\"\n",
    "        self.mother_hobby = \"Doing Puja\"\n",
    "\n",
    "    def mother_info(self):\n",
    "        print(f\"Mother's Name: {self.mother_name}\")\n",
    "        print(f\"Mother's Hobby: {self.mother_hobby}\")\n",
    "\n",
    "\n",
    "class Child(Father, Mother):\n",
    "    def __init__(self):\n",
    "        Father.__init__(self)\n",
    "        Mother.__init__(self)\n",
    "        self.child_name = \"sita\"\n",
    "\n",
    "    def child_info(self):\n",
    "        print(f\"Child's Name: {self.child_name}\")\n",
    "        self.father_info()\n",
    "        self.mother_info()\n",
    "\n",
    "\n",
    "c = Child()\n",
    "c.child_info()\n"
   ]
  },
  {
   "cell_type": "code",
   "execution_count": null,
   "id": "16d5671f",
   "metadata": {},
   "outputs": [],
   "source": []
  },
  {
   "cell_type": "code",
   "execution_count": null,
   "id": "241f166d",
   "metadata": {},
   "outputs": [],
   "source": []
  },
  {
   "cell_type": "code",
   "execution_count": null,
   "id": "46a8cc23",
   "metadata": {},
   "outputs": [],
   "source": []
  },
  {
   "cell_type": "code",
   "execution_count": null,
   "id": "98893815",
   "metadata": {},
   "outputs": [],
   "source": []
  }
 ],
 "metadata": {
  "kernelspec": {
   "display_name": "Python 3",
   "language": "python",
   "name": "python3"
  },
  "language_info": {
   "codemirror_mode": {
    "name": "ipython",
    "version": 3
   },
   "file_extension": ".py",
   "mimetype": "text/x-python",
   "name": "python",
   "nbconvert_exporter": "python",
   "pygments_lexer": "ipython3",
   "version": "3.12.2"
  }
 },
 "nbformat": 4,
 "nbformat_minor": 5
}
