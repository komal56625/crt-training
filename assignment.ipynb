{
 "cells": [
  {
   "cell_type": "markdown",
   "metadata": {},
   "source": [
    "1.How do lists and tuples differ in terms of mutability and \n",
    "performance? When would you choose one over the other? \n",
    "2. Explain how Python handles type conversion between different data \n",
    "types, such as between integers and floats or between strings and \n",
    "lists. \n",
    "3. Take a number and use the += operator to increase its value by 10. \n",
    "4. Write a Python program to check if a given year is a leap year or not. \n",
    "5. Write a program that asks the user to enter their marks and displays \n",
    "their grade: \n",
    "\n",
    "\n",
    "• 80-89: B \n",
    "• 70-79: C \n",
    "• 60-69: D \n",
    "• Below 60: F"
   ]
  },
  {
   "cell_type": "markdown",
   "metadata": {},
   "source": [
    "ans1\n",
    "Mutability:\n",
    "\n",
    "    Lists are mutable. This means that the values in a list can be changed after the list has been created. You can add, remove, or modify elements in a list.\n",
    "    Tuples are immutable. Once a tuple is created, its values cannot be changed. You cannot add, remove, or modify elements.\n",
    "\n",
    "Performance:\n",
    "\n",
    "    Lists have more overhead because of their mutability. This makes them slightly slower in operations compared to tuples.\n",
    "    Tuples are generally faster than lists when it comes to iteration or access since they are immutable and therefore have less overhead."
   ]
  },
  {
   "cell_type": "code",
   "execution_count": null,
   "metadata": {},
   "outputs": [
    {
     "name": "stdout",
     "output_type": "stream",
     "text": [
      "15.5\n"
     ]
    }
   ],
   "source": [
    "\n",
    "# int to float\n",
    "x = 10    # Integer\n",
    "y = 5.5   # Float\n",
    "result = x + y  # Implicitly converts x to a float and adds them.\n",
    "print(result) \n"
   ]
  },
  {
   "cell_type": "code",
   "execution_count": 2,
   "metadata": {},
   "outputs": [
    {
     "name": "stdout",
     "output_type": "stream",
     "text": [
      "10\n",
      "10.0\n",
      "10\n",
      "['a', 'b', 'c']\n"
     ]
    }
   ],
   "source": [
    "int_value = int(10.5)   # Convert float to int\n",
    "float_value = float(10) # Convert int to float\n",
    "string_value = str(10)  # Convert int to string\n",
    "list_value = list(\"abc\") # Convert string to list\n",
    "print(int_value)  # Output: 10\n",
    "print(float_value)  # Output: 10.0\n",
    "print(string_value)  # Output: '10'\n",
    "print(list_value)  # Output: ['a', 'b', 'c']\n"
   ]
  },
  {
   "cell_type": "code",
   "execution_count": null,
   "metadata": {},
   "outputs": [
    {
     "name": "stdout",
     "output_type": "stream",
     "text": [
      "15\n"
     ]
    }
   ],
   "source": [
    "#Using += Operator to Increase a Number by 10\n",
    "number = 5\n",
    "number += 10\n",
    "print(number)  # Output: 15\n"
   ]
  },
  {
   "cell_type": "code",
   "execution_count": 8,
   "metadata": {},
   "outputs": [
    {
     "name": "stdout",
     "output_type": "stream",
     "text": [
      "2022 is not a leap year.\n"
     ]
    }
   ],
   "source": [
    "# Given Year is a Leap Year or not\n",
    "def is_leap_year(year):\n",
    "    if (year % 4 == 0 and year % 100 != 0) or (year % 400 == 0):\n",
    "        return True\n",
    "    else:\n",
    "        return False\n",
    "\n",
    "year = int(input(\"Enter a year: \"))\n",
    "if is_leap_year(year):\n",
    "    print(f\"{year} is a leap year.\")\n",
    "else:\n",
    "    print(f\"{year} is not a leap year.\")\n"
   ]
  },
  {
   "cell_type": "code",
   "execution_count": 7,
   "metadata": {},
   "outputs": [
    {
     "name": "stdout",
     "output_type": "stream",
     "text": [
      "Grade: A\n"
     ]
    }
   ],
   "source": [
    "# Get marks from the user\n",
    "marks = float(input(\"Enter your marks: \"))\n",
    "\n",
    "# Determine and display the grade\n",
    "if 90 <= marks <= 100:\n",
    "    print(\"Grade: A\")\n",
    "elif 80 <= marks <= 89:\n",
    "    print(\"Grade: B\")\n",
    "elif 70 <= marks <= 79:\n",
    "    print(\"Grade: C\")\n",
    "elif 60 <= marks <= 69:\n",
    "    print(\"Grade: D\")\n",
    "else:\n",
    "    print(\"Grade: F\")\n"
   ]
  }
 ],
 "metadata": {
  "kernelspec": {
   "display_name": "base",
   "language": "python",
   "name": "python3"
  },
  "language_info": {
   "codemirror_mode": {
    "name": "ipython",
    "version": 3
   },
   "file_extension": ".py",
   "mimetype": "text/x-python",
   "name": "python",
   "nbconvert_exporter": "python",
   "pygments_lexer": "ipython3",
   "version": "3.12.7"
  }
 },
 "nbformat": 4,
 "nbformat_minor": 2
}
